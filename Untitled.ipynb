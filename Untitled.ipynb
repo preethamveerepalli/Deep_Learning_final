{
 "cells": [
  {
   "cell_type": "code",
   "execution_count": 59,
   "id": "0854eca5",
   "metadata": {},
   "outputs": [],
   "source": [
    "import warnings\n",
    "warnings.filterwarnings('ignore')\n",
    "\n",
    "import numpy as np \n",
    "import pandas as pd # data processing, CSV file I/O (e.g. pd.read_csv)\n",
    "import os\n",
    "import datetime\n",
    "\n",
    "import matplotlib.pyplot as plt\n",
    "\n",
    "import seaborn as sns\n",
    "import tensorflow as tf\n",
    "import keras\n",
    "from keras import backend as K\n",
    "from keras import regularizers\n",
    "from keras.preprocessing import image\n",
    "from keras.models import Sequential\n",
    "from keras.layers import Input\n",
    "from tensorflow.keras.utils import load_img\n",
    "from keras.layers import BatchNormalization\n",
    "from keras.optimizers import Adam\n",
    "from keras.callbacks import ModelCheckpoint\n",
    "from keras.callbacks import EarlyStopping\n",
    "from keras.callbacks import  ReduceLROnPlateau\n",
    "from keras.callbacks import  CSVLogger\n",
    "\n",
    "\n",
    "\n",
    "from PIL import Image"
   ]
  },
  {
   "cell_type": "code",
   "execution_count": 31,
   "id": "6b8e4fc2",
   "metadata": {},
   "outputs": [],
   "source": [
    "train_dir = \"../data/train/\" #path to the training images\n",
    "test_dir  = \"../data/test/\"   #path to the  testing images"
   ]
  },
  {
   "cell_type": "code",
   "execution_count": 38,
   "id": "dd19d71d",
   "metadata": {},
   "outputs": [
    {
     "name": "stdout",
     "output_type": "stream",
     "text": [
      "Train Counts: {'angry': 3995, 'disgusted': 436, 'fearful': 4097, 'happy': 7215, 'neutral': 4965, 'sad': 4830, 'surprised': 3171}\n",
      "Test Counts: {'angry': 958, 'disgusted': 111, 'fearful': 1024, 'happy': 1774, 'neutral': 1233, 'sad': 1247, 'surprised': 831}\n"
     ]
    }
   ],
   "source": [
    "\"\"\"/*IMG_SIZE = 48 #original size of the image in FER dataset\n",
    "BATCH_SIZE = 64\n",
    "NUM_EPOCHS = 60\n",
    "\n",
    "def count_exp(path, set_):\n",
    "    dict_ = {}\n",
    "    for expression in os.listdir(path):\n",
    "        dir_ = path + expression\n",
    "        dict_[expression] = len(os.listdir(dir_))\n",
    "    df = pd.DataFrame(dict_, index=[set_])\n",
    "    return df\n",
    "train_count = count_exp(train_dir, '../data/train')\n",
    "test_count = count_exp(test_dir, '.../data/test')\n",
    "print(train_count)\n",
    "print(test_count)*/\"\"\"\n",
    "\n",
    "import os\n",
    "\n",
    "data_dir = 'data'\n",
    "train_dir = os.path.join(data_dir, 'train')\n",
    "test_dir = os.path.join(data_dir, 'test')\n",
    "\n",
    "def count_images(directory):\n",
    "    count_dict = {}\n",
    "    subfolders = os.listdir(directory)\n",
    "    for subfolder in subfolders:\n",
    "        subfolder_path = os.path.join(directory, subfolder)\n",
    "        if os.path.isdir(subfolder_path):\n",
    "            count = len(os.listdir(subfolder_path))\n",
    "            count_dict[subfolder] = count\n",
    "    return count_dict\n",
    "\n",
    "train_counts = count_images(train_dir)\n",
    "test_counts = count_images(test_dir)\n",
    "\n",
    "print(\"Train Counts:\", train_counts)\n",
    "print(\"Test Counts:\", test_counts)\n"
   ]
  },
  {
   "cell_type": "code",
   "execution_count": 39,
   "id": "d6b9f52e",
   "metadata": {},
   "outputs": [
    {
     "data": {
      "text/plain": [
       "<Axes: >"
      ]
     },
     "execution_count": 39,
     "metadata": {},
     "output_type": "execute_result"
    },
    {
     "data": {
      "image/png": "[encoded data removed]",
      "text/plain": [
       "<Figure size 640x480 with 1 Axes>"
      ]
     },
     "metadata": {},
     "output_type": "display_data"
    }
   ],
   "source": [
    "train_count.transpose().plot(kind='bar')\n"
   ]
  },
  {
   "cell_type": "code",
   "execution_count": 40,
   "id": "3d10f172",
   "metadata": {},
   "outputs": [
    {
     "ename": "FileNotFoundError",
     "evalue": "[WinError 3] The system cannot find the path specified: 'data\\\\trainangry/'",
     "output_type": "error",
     "traceback": [
      "\u001b[1;31m---------------------------------------------------------------------------\u001b[0m",
      "\u001b[1;31mFileNotFoundError\u001b[0m                         Traceback (most recent call last)",
      "Cell \u001b[1;32mIn[40], line 7\u001b[0m\n\u001b[0;32m      5\u001b[0m \u001b[38;5;28;01mfor\u001b[39;00m expression \u001b[38;5;129;01min\u001b[39;00m os\u001b[38;5;241m.\u001b[39mlistdir(train_dir):\n\u001b[0;32m      6\u001b[0m     expression_dir \u001b[38;5;241m=\u001b[39m train_dir \u001b[38;5;241m+\u001b[39m expression \u001b[38;5;241m+\u001b[39m \u001b[38;5;124m'\u001b[39m\u001b[38;5;124m/\u001b[39m\u001b[38;5;124m'\u001b[39m\n\u001b[1;32m----> 7\u001b[0m     \u001b[38;5;28;01mif\u001b[39;00m \u001b[38;5;28mlen\u001b[39m(\u001b[43mos\u001b[49m\u001b[38;5;241;43m.\u001b[39;49m\u001b[43mlistdir\u001b[49m\u001b[43m(\u001b[49m\u001b[43mexpression_dir\u001b[49m\u001b[43m)\u001b[49m) \u001b[38;5;241m>\u001b[39m \u001b[38;5;241m0\u001b[39m:\n\u001b[0;32m      8\u001b[0m         img_path \u001b[38;5;241m=\u001b[39m expression_dir \u001b[38;5;241m+\u001b[39m os\u001b[38;5;241m.\u001b[39mlistdir(expression_dir)[\u001b[38;5;241m0\u001b[39m]\n\u001b[0;32m      9\u001b[0m         img \u001b[38;5;241m=\u001b[39m Image\u001b[38;5;241m.\u001b[39mopen(img_path)\n",
      "\u001b[1;31mFileNotFoundError\u001b[0m: [WinError 3] The system cannot find the path specified: 'data\\\\trainangry/'"
     ]
    },
    {
     "data": {
      "text/plain": [
       "<Figure size 1400x2200 with 0 Axes>"
      ]
     },
     "metadata": {},
     "output_type": "display_data"
    }
   ],
   "source": [
    "from PIL import Image\n",
    "\n",
    "plt.figure(figsize=(14, 22))\n",
    "i = 1\n",
    "for expression in os.listdir(train_dir):\n",
    "    expression_dir = train_dir + expression + '/'\n",
    "    if len(os.listdir(expression_dir)) > 0:\n",
    "        img_path = expression_dir + os.listdir(expression_dir)[0]\n",
    "        img = Image.open(img_path)\n",
    "        plt.subplot(1, 7, i)\n",
    "        plt.imshow(img)\n",
    "        plt.title(expression)\n",
    "        plt.axis('off')\n",
    "        i += 1\n",
    "plt.show()\n"
   ]
  },
  {
   "cell_type": "code",
   "execution_count": 41,
   "id": "8497fa2b",
   "metadata": {},
   "outputs": [],
   "source": [
    "train_datagen = ImageDataGenerator(rescale=1./255,  #scale image to 0 or 1\n",
    "                                   #rotation_range = 25,\n",
    "                                         #width_shift_range = 0.1,\n",
    "                                         #height_shift_range = 0.1,\n",
    "                                         horizontal_flip = True,\n",
    "                                         #vertical_flip=True,\n",
    "                                         zoom_range = 0.2,\n",
    "                                         fill_mode=\"nearest\",\n",
    "                                         validation_split = 0.2\n",
    "                                        )\n",
    "\n",
    "valid_datagen = ImageDataGenerator(rescale = 1./255, horizontal_flip=True, vertical_flip=False)"
   ]
  },
  {
   "cell_type": "code",
   "execution_count": 42,
   "id": "8bd72612",
   "metadata": {},
   "outputs": [
    {
     "name": "stdout",
     "output_type": "stream",
     "text": [
      "Found 22968 images belonging to 7 classes.\n",
      "Found 5741 images belonging to 7 classes.\n",
      "Found 7178 images belonging to 7 classes.\n"
     ]
    }
   ],
   "source": [
    "\"\"\"\n",
    "Applying data augmentation to the images as we read \n",
    "them from their respectivve directories\n",
    "\n",
    "The data consists of 48x48 pixel grayscale images of faces. The faces have been automatically registered so that the face is more or less centred and occupies about the same amount of space in each image.\n",
    "\n",
    "The task is to categorize each face based on the emotion shown in the facial expression into one of seven categories (0=Angry, 1=Disgust, 2=Fear, 3=Happy, 4=Sad, 5=Surprise, 6=Neutral). \n",
    "The training set consists of 28,709 examples and the public test set consists of 7178  examples.\n",
    "\"\"\"\n",
    "\n",
    "\n",
    "\n",
    "training_set = train_datagen.flow_from_directory(directory = train_dir,\n",
    "                                                    target_size = (IMG_SIZE, IMG_SIZE),\n",
    "                                                    batch_size = BATCH_SIZE,\n",
    "                                                    color_mode = \"grayscale\",\n",
    "                                                    class_mode = \"categorical\",\n",
    "                                                    subset = \"training\", # set as training data\n",
    "                                                     shuffle=True\n",
    "                                                   )\n",
    "\n",
    "test_set = train_datagen.flow_from_directory(directory = train_dir,\n",
    "                                                    target_size = (IMG_SIZE, IMG_SIZE),\n",
    "                                                    batch_size = BATCH_SIZE,\n",
    "                                                    color_mode = \"grayscale\",\n",
    "                                                    class_mode = \"categorical\",\n",
    "                                                    subset = \"validation\", # set as validation data\n",
    "                                                    shuffle=True\n",
    "                                                   )\n",
    "\n",
    "valid_set = valid_datagen.flow_from_directory( directory = test_dir,\n",
    "                                                              target_size = (IMG_SIZE, IMG_SIZE),\n",
    "                                                              batch_size = BATCH_SIZE,\n",
    "                                                              color_mode = \"grayscale\",\n",
    "                                                              class_mode = \"categorical\",\n",
    "                                                              shuffle=True\n",
    "                                                             )\n",
    "                                        "
   ]
  },
  {
   "cell_type": "code",
   "execution_count": 50,
   "id": "b9c1cf6b",
   "metadata": {},
   "outputs": [],
   "source": [
    "\n",
    "model = Sequential()\n",
    "\n",
    "model.add(SeparableConv2D(32, kernel_size=(3,3), padding=\"same\",  activation='relu', input_shape=(48, 48,1)))\n",
    "model.add(SeparableConv2D(64, (3,3), padding=\"same\",  activation='relu'))\n",
    "model.add(BatchNormalization())\n",
    "model.add(MaxPooling2D(pool_size=(2,2)))\n",
    "\n",
    "model.add(SeparableConv2D(128, (3,3), padding=\"same\",  activation='relu', kernel_regularizer=regularizers.l2(0.01)))\n",
    "model.add(SeparableConv2D(256, (3,3), padding=\"same\",  activation='relu', kernel_regularizer=regularizers.l2(0.01)))\n",
    "model.add(BatchNormalization())\n",
    "model.add(MaxPooling2D(pool_size=(2,2)))\n",
    "\n",
    "model.add(SeparableConv2D(512, (3,3), padding=\"same\",  activation='relu', kernel_regularizer=regularizers.l2(0.01)))\n",
    "model.add(SeparableConv2D(512, (3,3), padding=\"same\",  activation='relu', kernel_regularizer=regularizers.l2(0.01)))\n",
    "model.add(BatchNormalization())\n",
    "model.add(MaxPooling2D(pool_size=(2,2)))\n",
    "\n",
    "model.add(Flatten()) \n",
    "model.add(Dense(1024, activation = 'relu'))\n",
    "# model.add(Dense(512, activation = 'relu'))\n",
    "model.add(Dense(256, activation = 'relu'))\n",
    "model.add(BatchNormalization())\n",
    "model.add(Dropout(0.5))\n",
    "\n",
    "model.add(Dense(7, activation='softmax')) #facial expression have 7 classes\n",
    "\n",
    "model.compile(\n",
    "    loss=\"categorical_crossentropy\", \n",
    "    optimizer = Adam(lr=0.0001, decay=1e-6),\n",
    "    metrics=['accuracy']\n",
    "  )"
   ]
  },
  {
   "cell_type": "code",
   "execution_count": 51,
   "id": "15a52e5d",
   "metadata": {},
   "outputs": [
    {
     "name": "stdout",
     "output_type": "stream",
     "text": [
      "Model: \"sequential_4\"\n",
      "_________________________________________________________________\n",
      " Layer (type)                Output Shape              Param #   \n",
      "=================================================================\n",
      " separable_conv2d_14 (Separa  (None, 48, 48, 32)       73        \n",
      " bleConv2D)                                                      \n",
      "                                                                 \n",
      " separable_conv2d_15 (Separa  (None, 48, 48, 64)       2400      \n",
      " bleConv2D)                                                      \n",
      "                                                                 \n",
      " batch_normalization_8 (Batc  (None, 48, 48, 64)       256       \n",
      " hNormalization)                                                 \n",
      "                                                                 \n",
      " max_pooling2d_6 (MaxPooling  (None, 24, 24, 64)       0         \n",
      " 2D)                                                             \n",
      "                                                                 \n",
      " separable_conv2d_16 (Separa  (None, 24, 24, 128)      8896      \n",
      " bleConv2D)                                                      \n",
      "                                                                 \n",
      " separable_conv2d_17 (Separa  (None, 24, 24, 256)      34176     \n",
      " bleConv2D)                                                      \n",
      "                                                                 \n",
      " batch_normalization_9 (Batc  (None, 24, 24, 256)      1024      \n",
      " hNormalization)                                                 \n",
      "                                                                 \n",
      " max_pooling2d_7 (MaxPooling  (None, 12, 12, 256)      0         \n",
      " 2D)                                                             \n",
      "                                                                 \n",
      " separable_conv2d_18 (Separa  (None, 12, 12, 512)      133888    \n",
      " bleConv2D)                                                      \n",
      "                                                                 \n",
      " separable_conv2d_19 (Separa  (None, 12, 12, 512)      267264    \n",
      " bleConv2D)                                                      \n",
      "                                                                 \n",
      " batch_normalization_10 (Bat  (None, 12, 12, 512)      2048      \n",
      " chNormalization)                                                \n",
      "                                                                 \n",
      " max_pooling2d_8 (MaxPooling  (None, 6, 6, 512)        0         \n",
      " 2D)                                                             \n",
      "                                                                 \n",
      " flatten_2 (Flatten)         (None, 18432)             0         \n",
      "                                                                 \n",
      " dense_6 (Dense)             (None, 1024)              18875392  \n",
      "                                                                 \n",
      " dense_7 (Dense)             (None, 256)               262400    \n",
      "                                                                 \n",
      " batch_normalization_11 (Bat  (None, 256)              1024      \n",
      " chNormalization)                                                \n",
      "                                                                 \n",
      " dropout_2 (Dropout)         (None, 256)               0         \n",
      "                                                                 \n",
      " dense_8 (Dense)             (None, 7)                 1799      \n",
      "                                                                 \n",
      "=================================================================\n",
      "Total params: 19,590,640\n",
      "Trainable params: 19,588,464\n",
      "Non-trainable params: 2,176\n",
      "_________________________________________________________________\n"
     ]
    }
   ],
   "source": [
    "model.summary()"
   ]
  },
  {
   "cell_type": "code",
   "execution_count": 60,
   "id": "7a85e254",
   "metadata": {},
   "outputs": [],
   "source": [
    "chk_path = 'facial_expressions.h5'\n",
    "log_dir = \"checkpoint/log/\" + datetime.datetime.now().strftime(\"%Y%m%d-%H%M%S\")\n",
    "\n",
    "checkpoint = ModelCheckpoint(filepath=chk_path,\n",
    "                             save_best_only=True,\n",
    "                             verbose=1,\n",
    "                             mode='min',\n",
    "                             monitor='val_loss')\n",
    "\n",
    "earlystop = EarlyStopping(monitor='val_loss',\n",
    "                          min_delta=0, \n",
    "                          patience=3, \n",
    "                          verbose=1, \n",
    "                          restore_best_weights=True)\n",
    "                        \n",
    "reduce_lr = ReduceLROnPlateau(monitor='val_loss', \n",
    "                              factor=0.2, \n",
    "                              patience=6, \n",
    "                              verbose=1, \n",
    "                              min_delta=0.0001)\n",
    "\n",
    "\n",
    "tensorboard_callback = tf.keras.callbacks.TensorBoard(log_dir=log_dir, histogram_freq=1)\n",
    "csv_logger = CSVLogger('training.log')\n",
    "\n",
    "callbacks = [checkpoint, reduce_lr, csv_logger]"
   ]
  },
  {
   "cell_type": "code",
   "execution_count": null,
   "id": "9314731d",
   "metadata": {},
   "outputs": [
    {
     "name": "stdout",
     "output_type": "stream",
     "text": [
      "Epoch 1/60\n",
      "358/358 [==============================] - ETA: 0s - loss: 1.7112 - accuracy: 0.3512\n",
      "Epoch 1: val_loss improved from inf to 1.87325, saving model to facial_expressions.h5\n",
      "358/358 [==============================] - 432s 1s/step - loss: 1.7112 - accuracy: 0.3512 - val_loss: 1.8733 - val_accuracy: 0.2469 - lr: 1.0000e-04\n",
      "Epoch 2/60\n",
      "358/358 [==============================] - ETA: 0s - loss: 1.5084 - accuracy: 0.4324\n",
      "Epoch 2: val_loss improved from 1.87325 to 1.64181, saving model to facial_expressions.h5\n",
      "358/358 [==============================] - 303s 846ms/step - loss: 1.5084 - accuracy: 0.4324 - val_loss: 1.6418 - val_accuracy: 0.4043 - lr: 1.0000e-04\n",
      "Epoch 3/60\n",
      "358/358 [==============================] - ETA: 0s - loss: 1.4145 - accuracy: 0.4656\n",
      "Epoch 3: val_loss did not improve from 1.64181\n",
      "358/358 [==============================] - 231s 644ms/step - loss: 1.4145 - accuracy: 0.4656 - val_loss: 1.6594 - val_accuracy: 0.4046 - lr: 1.0000e-04\n",
      "Epoch 4/60\n",
      "358/358 [==============================] - ETA: 0s - loss: 1.3492 - accuracy: 0.4876\n",
      "Epoch 4: val_loss improved from 1.64181 to 1.48209, saving model to facial_expressions.h5\n",
      "358/358 [==============================] - 232s 649ms/step - loss: 1.3492 - accuracy: 0.4876 - val_loss: 1.4821 - val_accuracy: 0.4598 - lr: 1.0000e-04\n",
      "Epoch 5/60\n",
      "358/358 [==============================] - ETA: 0s - loss: 1.3108 - accuracy: 0.5058\n",
      "Epoch 5: val_loss improved from 1.48209 to 1.31580, saving model to facial_expressions.h5\n",
      "358/358 [==============================] - 263s 734ms/step - loss: 1.3108 - accuracy: 0.5058 - val_loss: 1.3158 - val_accuracy: 0.4999 - lr: 1.0000e-04\n",
      "Epoch 6/60\n",
      "358/358 [==============================] - ETA: 0s - loss: 1.2699 - accuracy: 0.5195\n",
      "Epoch 6: val_loss did not improve from 1.31580\n",
      "358/358 [==============================] - 246s 688ms/step - loss: 1.2699 - accuracy: 0.5195 - val_loss: 1.4827 - val_accuracy: 0.4415 - lr: 1.0000e-04\n",
      "Epoch 7/60\n",
      "358/358 [==============================] - ETA: 0s - loss: 1.2308 - accuracy: 0.5367\n",
      "Epoch 7: val_loss did not improve from 1.31580\n",
      "358/358 [==============================] - 273s 762ms/step - loss: 1.2308 - accuracy: 0.5367 - val_loss: 1.5071 - val_accuracy: 0.4538 - lr: 1.0000e-04\n",
      "Epoch 8/60\n",
      "358/358 [==============================] - ETA: 0s - loss: 1.2063 - accuracy: 0.5452\n",
      "Epoch 8: val_loss did not improve from 1.31580\n",
      "358/358 [==============================] - 285s 796ms/step - loss: 1.2063 - accuracy: 0.5452 - val_loss: 1.4901 - val_accuracy: 0.4544 - lr: 1.0000e-04\n",
      "Epoch 9/60\n",
      "358/358 [==============================] - ETA: 0s - loss: 1.1732 - accuracy: 0.5610\n",
      "Epoch 9: val_loss did not improve from 1.31580\n",
      "358/358 [==============================] - 271s 756ms/step - loss: 1.1732 - accuracy: 0.5610 - val_loss: 1.3930 - val_accuracy: 0.4775 - lr: 1.0000e-04\n",
      "Epoch 10/60\n",
      "174/358 [=============>................] - ETA: 2:50 - loss: 1.1431 - accuracy: 0.5753"
     ]
    }
   ],
   "source": [
    "steps_per_epoch = training_set.samples // training_set.batch_size\n",
    "valid_steps = valid_set.samples // valid_set.batch_size\n",
    "\n",
    "history = model.fit_generator(training_set,\n",
    "                 validation_data=valid_set,\n",
    "                 epochs=NUM_EPOCHS,\n",
    "                 steps_per_epoch=steps_per_epoch,\n",
    "                 validation_steps=valid_steps,\n",
    "                 callbacks=callbacks)"
   ]
  },
  {
   "cell_type": "code",
   "execution_count": null,
   "id": "12f261f5",
   "metadata": {},
   "outputs": [],
   "source": [
    "  "
   ]
  }
 ],
 "metadata": {
  "kernelspec": {
   "display_name": "Python 3 (ipykernel)",
   "language": "python",
   "name": "python3"
  },
  "language_info": {
   "codemirror_mode": {
    "name": "ipython",
    "version": 3
   },
   "file_extension": ".py",
   "mimetype": "text/x-python",
   "name": "python",
   "nbconvert_exporter": "python",
   "pygments_lexer": "ipython3",
   "version": "3.10.9"
  }
 },
 "nbformat": 4,
 "nbformat_minor": 5
}
